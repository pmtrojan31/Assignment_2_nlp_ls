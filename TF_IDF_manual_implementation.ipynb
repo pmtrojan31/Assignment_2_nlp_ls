{
  "nbformat": 4,
  "nbformat_minor": 0,
  "metadata": {
    "colab": {
      "provenance": []
    },
    "kernelspec": {
      "name": "python3",
      "display_name": "Python 3"
    },
    "language_info": {
      "name": "python"
    }
  },
  "cells": [
    {
      "cell_type": "markdown",
      "source": [
        "# Manual Implementation"
      ],
      "metadata": {
        "id": "F5dWii3hDlQE"
      }
    },
    {
      "cell_type": "code",
      "source": [
        "import math"
      ],
      "metadata": {
        "id": "NSKwcHti-QNf"
      },
      "execution_count": 85,
      "outputs": []
    },
    {
      "cell_type": "code",
      "execution_count": 86,
      "metadata": {
        "id": "SSOrDLBt68nL"
      },
      "outputs": [],
      "source": [
        "def TF(document, word):\n",
        "  return document.split().count(word) / len(document.split())"
      ]
    },
    {
      "cell_type": "code",
      "source": [
        "def IDF(corpus, word):\n",
        "  return math.log(len(corpus) / sum(list(map(lambda document: word in document, corpus))))"
      ],
      "metadata": {
        "id": "NB6Yebv_9848"
      },
      "execution_count": 87,
      "outputs": []
    },
    {
      "cell_type": "code",
      "source": [
        "def TF_IDF(corpus):\n",
        "  word_set = set()\n",
        "  for document in corpus:\n",
        "    for word in document.split():\n",
        "      if word not in word_set:\n",
        "        word_set.add(word)\n",
        "  print(\"PRINTING ALL IDF VALUES\\n\\n\")\n",
        "  for word in word_set:\n",
        "    print(word, \":\", IDF(corpus, word))\n",
        "  print(\"\\n\\nPRINTING THE TF-IDF VALUES NOW\\n\\n\")\n",
        "  for document in corpus:\n",
        "    for word in word_set:\n",
        "      print(document, \":\", word, \":\", TF(document, word)*IDF(corpus, word))"
      ],
      "metadata": {
        "id": "6yjAqZF-AfsG"
      },
      "execution_count": 88,
      "outputs": []
    },
    {
      "cell_type": "code",
      "source": [
        "corpus = [\n",
        "    'the sun is is is a star',\n",
        "    'the moon is a satellite',\n",
        "    'the sun and moon are celestial bodies'\n",
        "]"
      ],
      "metadata": {
        "id": "tl1t2qOR_fkd"
      },
      "execution_count": 89,
      "outputs": []
    },
    {
      "cell_type": "code",
      "source": [
        "TF_IDF(corpus)"
      ],
      "metadata": {
        "colab": {
          "base_uri": "https://localhost:8080/"
        },
        "id": "q0fYwKIsCyIw",
        "outputId": "2fbf272e-cfb1-4219-fd0e-6673ae1ca7cf"
      },
      "execution_count": 90,
      "outputs": [
        {
          "output_type": "stream",
          "name": "stdout",
          "text": [
            "PRINTING ALL IDF VALUES\n",
            "\n",
            "\n",
            "star : 1.0986122886681098\n",
            "sun : 0.4054651081081644\n",
            "celestial : 1.0986122886681098\n",
            "and : 1.0986122886681098\n",
            "bodies : 1.0986122886681098\n",
            "moon : 0.4054651081081644\n",
            "is : 0.4054651081081644\n",
            "satellite : 1.0986122886681098\n",
            "a : 0.0\n",
            "are : 1.0986122886681098\n",
            "the : 0.0\n",
            "\n",
            "\n",
            "PRINTING THE TF-IDF VALUES NOW\n",
            "\n",
            "\n",
            "the sun is is is a star : star : 0.15694461266687282\n",
            "the sun is is is a star : sun : 0.05792358687259491\n",
            "the sun is is is a star : celestial : 0.0\n",
            "the sun is is is a star : and : 0.0\n",
            "the sun is is is a star : bodies : 0.0\n",
            "the sun is is is a star : moon : 0.0\n",
            "the sun is is is a star : is : 0.17377076061778474\n",
            "the sun is is is a star : satellite : 0.0\n",
            "the sun is is is a star : a : 0.0\n",
            "the sun is is is a star : are : 0.0\n",
            "the sun is is is a star : the : 0.0\n",
            "the moon is a satellite : star : 0.0\n",
            "the moon is a satellite : sun : 0.0\n",
            "the moon is a satellite : celestial : 0.0\n",
            "the moon is a satellite : and : 0.0\n",
            "the moon is a satellite : bodies : 0.0\n",
            "the moon is a satellite : moon : 0.08109302162163289\n",
            "the moon is a satellite : is : 0.08109302162163289\n",
            "the moon is a satellite : satellite : 0.21972245773362198\n",
            "the moon is a satellite : a : 0.0\n",
            "the moon is a satellite : are : 0.0\n",
            "the moon is a satellite : the : 0.0\n",
            "the sun and moon are celestial bodies : star : 0.0\n",
            "the sun and moon are celestial bodies : sun : 0.05792358687259491\n",
            "the sun and moon are celestial bodies : celestial : 0.15694461266687282\n",
            "the sun and moon are celestial bodies : and : 0.15694461266687282\n",
            "the sun and moon are celestial bodies : bodies : 0.15694461266687282\n",
            "the sun and moon are celestial bodies : moon : 0.05792358687259491\n",
            "the sun and moon are celestial bodies : is : 0.0\n",
            "the sun and moon are celestial bodies : satellite : 0.0\n",
            "the sun and moon are celestial bodies : a : 0.0\n",
            "the sun and moon are celestial bodies : are : 0.15694461266687282\n",
            "the sun and moon are celestial bodies : the : 0.0\n"
          ]
        }
      ]
    },
    {
      "cell_type": "markdown",
      "source": [
        "# CountVectorizer"
      ],
      "metadata": {
        "id": "a3bQ88bgDqpo"
      }
    },
    {
      "cell_type": "code",
      "source": [
        "from sklearn.feature_extraction.text import CountVectorizer"
      ],
      "metadata": {
        "id": "vqWODbf8DtO4"
      },
      "execution_count": 91,
      "outputs": []
    },
    {
      "cell_type": "code",
      "source": [
        "vectorizer = CountVectorizer()"
      ],
      "metadata": {
        "id": "aKtc7L_DEOH0"
      },
      "execution_count": 92,
      "outputs": []
    },
    {
      "cell_type": "code",
      "source": [
        "result_vectorizer = vectorizer.fit_transform(corpus)"
      ],
      "metadata": {
        "id": "o1UvNtk3EV82"
      },
      "execution_count": 93,
      "outputs": []
    },
    {
      "cell_type": "code",
      "source": [
        "vectorizer.get_feature_names_out()"
      ],
      "metadata": {
        "colab": {
          "base_uri": "https://localhost:8080/"
        },
        "id": "316P_KDHFIOJ",
        "outputId": "e661e506-8e1c-4763-ddb7-7919d1b1b16f"
      },
      "execution_count": 94,
      "outputs": [
        {
          "output_type": "execute_result",
          "data": {
            "text/plain": [
              "array(['and', 'are', 'bodies', 'celestial', 'is', 'moon', 'satellite',\n",
              "       'star', 'sun', 'the'], dtype=object)"
            ]
          },
          "metadata": {},
          "execution_count": 94
        }
      ]
    },
    {
      "cell_type": "code",
      "source": [
        "result_vectorizer.toarray()"
      ],
      "metadata": {
        "colab": {
          "base_uri": "https://localhost:8080/"
        },
        "id": "35Rq8W56EqsQ",
        "outputId": "24fc31cc-7e9a-4c85-9d22-7c1ee670078c"
      },
      "execution_count": 95,
      "outputs": [
        {
          "output_type": "execute_result",
          "data": {
            "text/plain": [
              "array([[0, 0, 0, 0, 3, 0, 0, 1, 1, 1],\n",
              "       [0, 0, 0, 0, 1, 1, 1, 0, 0, 1],\n",
              "       [1, 1, 1, 1, 0, 1, 0, 0, 1, 1]])"
            ]
          },
          "metadata": {},
          "execution_count": 95
        }
      ]
    },
    {
      "cell_type": "markdown",
      "source": [
        "# TF-IDF Vectorizer"
      ],
      "metadata": {
        "id": "jX5JS4eRFYJp"
      }
    },
    {
      "cell_type": "code",
      "source": [
        "from sklearn.feature_extraction.text import TfidfVectorizer"
      ],
      "metadata": {
        "id": "hjZmn4hTFXnr"
      },
      "execution_count": 96,
      "outputs": []
    },
    {
      "cell_type": "code",
      "source": [
        "tfidf = TfidfVectorizer()"
      ],
      "metadata": {
        "id": "lesf6c9KFd-i"
      },
      "execution_count": 97,
      "outputs": []
    },
    {
      "cell_type": "code",
      "source": [
        "result = tfidf.fit_transform(corpus)"
      ],
      "metadata": {
        "id": "RjWn5tgbFiFc"
      },
      "execution_count": 98,
      "outputs": []
    },
    {
      "cell_type": "code",
      "source": [
        "# get idf values\n",
        "print('\\nidf values:')\n",
        "for ele1, ele2 in zip(tfidf.get_feature_names_out(), tfidf.idf_):\n",
        "    print(ele1, ':', ele2)"
      ],
      "metadata": {
        "colab": {
          "base_uri": "https://localhost:8080/"
        },
        "id": "RveaUaaqGgFs",
        "outputId": "51eaa2b6-bf72-400e-9318-bde19d461933"
      },
      "execution_count": 99,
      "outputs": [
        {
          "output_type": "stream",
          "name": "stdout",
          "text": [
            "\n",
            "idf values:\n",
            "and : 1.6931471805599454\n",
            "are : 1.6931471805599454\n",
            "bodies : 1.6931471805599454\n",
            "celestial : 1.6931471805599454\n",
            "is : 1.2876820724517808\n",
            "moon : 1.2876820724517808\n",
            "satellite : 1.6931471805599454\n",
            "star : 1.6931471805599454\n",
            "sun : 1.2876820724517808\n",
            "the : 1.0\n"
          ]
        }
      ]
    },
    {
      "cell_type": "code",
      "source": [
        "# get indexing\n",
        "print('\\nWord indexes:')\n",
        "print(tfidf.vocabulary_)\n",
        "\n",
        "# display tf-idf values\n",
        "print('\\ntf-idf value:')\n",
        "print(result)\n",
        "\n",
        "# in matrix form\n",
        "print('\\ntf-idf values in matrix form:')\n",
        "print(result.toarray())"
      ],
      "metadata": {
        "colab": {
          "base_uri": "https://localhost:8080/"
        },
        "id": "mb-87ctAFmML",
        "outputId": "91fa23f2-7e4d-441a-ff85-1661b7b19d67"
      },
      "execution_count": 100,
      "outputs": [
        {
          "output_type": "stream",
          "name": "stdout",
          "text": [
            "\n",
            "Word indexes:\n",
            "{'the': 9, 'sun': 8, 'is': 4, 'star': 7, 'moon': 5, 'satellite': 6, 'and': 0, 'are': 1, 'celestial': 3, 'bodies': 2}\n",
            "\n",
            "tf-idf value:\n",
            "<Compressed Sparse Row sparse matrix of dtype 'float64'\n",
            "\twith 15 stored elements and shape (3, 10)>\n",
            "  Coords\tValues\n",
            "  (0, 9)\t0.22114371290186152\n",
            "  (0, 8)\t0.28476279453915065\n",
            "  (0, 4)\t0.854288383617452\n",
            "  (0, 7)\t0.37442885399834486\n",
            "  (1, 9)\t0.3731188059313277\n",
            "  (1, 4)\t0.4804583972923858\n",
            "  (1, 5)\t0.4804583972923858\n",
            "  (1, 6)\t0.6317450542765208\n",
            "  (2, 9)\t0.2517108425440014\n",
            "  (2, 8)\t0.3241235393856436\n",
            "  (2, 5)\t0.3241235393856436\n",
            "  (2, 0)\t0.42618350336974425\n",
            "  (2, 1)\t0.42618350336974425\n",
            "  (2, 3)\t0.42618350336974425\n",
            "  (2, 2)\t0.42618350336974425\n",
            "\n",
            "tf-idf values in matrix form:\n",
            "[[0.         0.         0.         0.         0.85428838 0.\n",
            "  0.         0.37442885 0.28476279 0.22114371]\n",
            " [0.         0.         0.         0.         0.4804584  0.4804584\n",
            "  0.63174505 0.         0.         0.37311881]\n",
            " [0.4261835  0.4261835  0.4261835  0.4261835  0.         0.32412354\n",
            "  0.         0.         0.32412354 0.25171084]]\n"
          ]
        }
      ]
    }
  ]
}